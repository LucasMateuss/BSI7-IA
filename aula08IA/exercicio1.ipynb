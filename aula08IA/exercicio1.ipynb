{
  "nbformat": 4,
  "nbformat_minor": 0,
  "metadata": {
    "colab": {
      "provenance": []
    },
    "kernelspec": {
      "name": "python3",
      "display_name": "Python 3"
    },
    "language_info": {
      "name": "python"
    }
  },
  "cells": [
    {
      "cell_type": "code",
      "execution_count": 1,
      "metadata": {
        "id": "LAU9Xf4AsDVH",
        "colab": {
          "base_uri": "https://localhost:8080/"
        },
        "outputId": "09ddbb44-7d3e-41e7-eaa4-2caf10d339cb"
      },
      "outputs": [
        {
          "output_type": "stream",
          "name": "stdout",
          "text": [
            "Requirement already satisfied: networkx>=2.5 in /usr/local/lib/python3.11/dist-packages (3.5)\n",
            "Collecting scikit-fuzzy\n",
            "  Downloading scikit_fuzzy-0.5.0-py2.py3-none-any.whl.metadata (2.6 kB)\n",
            "Downloading scikit_fuzzy-0.5.0-py2.py3-none-any.whl (920 kB)\n",
            "\u001b[2K   \u001b[90m━━━━━━━━━━━━━━━━━━━━━━━━━━━━━━━━━━━━━━━━\u001b[0m \u001b[32m920.8/920.8 kB\u001b[0m \u001b[31m11.4 MB/s\u001b[0m eta \u001b[36m0:00:00\u001b[0m\n",
            "\u001b[?25hInstalling collected packages: scikit-fuzzy\n",
            "Successfully installed scikit-fuzzy-0.5.0\n"
          ]
        }
      ],
      "source": [
        "%pip install networkx\">=2.5\"\n",
        "%pip install scikit-fuzzy"
      ]
    },
    {
      "cell_type": "code",
      "source": [
        "import numpy as np\n",
        "import skfuzzy as fuzz\n",
        "from skfuzzy import control as ctrl"
      ],
      "metadata": {
        "id": "oGT5Dy-B5R7n"
      },
      "execution_count": 2,
      "outputs": []
    },
    {
      "cell_type": "code",
      "source": [
        "temperature = ctrl.Antecedent(np.arange(15, 46, 1), 'temperatura')\n",
        "price = ctrl.Antecedent(np.arange(1, 7, 1), 'preco')\n",
        "\n",
        "consumption = ctrl.Consequent(np.arange(500, 6001, 1), 'consumo')\n",
        "\n",
        "temperature['baixa'] = fuzz.gaussmf(temperature.universe, 15, 6.369)\n",
        "temperature['media'] = fuzz.gaussmf(temperature.universe, 30, 6.369)\n",
        "temperature['alta'] = fuzz.gaussmf(temperature.universe, 45, 6.369)\n",
        "\n",
        "price['baixa'] = fuzz.gaussmf(price.universe, 1, 1.061)\n",
        "price['media'] = fuzz.gaussmf(price.universe, 3.05, 1.061)\n",
        "price['alta'] = fuzz.gaussmf(price.universe, 6, 1.061)\n",
        "\n",
        "consumption['pequeno'] = fuzz.trimf(consumption.universe, [-2250, 500, 3250])\n",
        "consumption['medio'] = fuzz.trimf(consumption.universe, [500, 3250, 6000])\n",
        "consumption['grande'] = fuzz.trimf(consumption.universe, [3250, 6000, 8750])"
      ],
      "metadata": {
        "id": "U0wNcbu85S0c"
      },
      "execution_count": 3,
      "outputs": []
    },
    {
      "cell_type": "code",
      "source": [
        "rule1 = ctrl.Rule(temperature['baixa'] & price['baixa'], consumption['grande'])\n",
        "rule2 = ctrl.Rule(temperature['baixa'] & price['media'], consumption['medio'])\n",
        "rule3 = ctrl.Rule(temperature['baixa'] & price['alta'], consumption['pequeno'])\n",
        "\n",
        "rule4 = ctrl.Rule(temperature['media'] & price['baixa'], consumption['grande'])\n",
        "rule5 = ctrl.Rule(temperature['media'] & price['media'], consumption['medio'])\n",
        "rule6 = ctrl.Rule(temperature['media'] & price['alta'], consumption['pequeno'])\n",
        "\n",
        "rule7 = ctrl.Rule(temperature['alta'] & price['baixa'], consumption['grande'])\n",
        "rule8 = ctrl.Rule(temperature['alta'] & price['media'], consumption['medio'])\n",
        "rule9 = ctrl.Rule(temperature['alta'] & price['alta'], consumption['pequeno'])"
      ],
      "metadata": {
        "id": "qvmCvahQ9HLR"
      },
      "execution_count": 5,
      "outputs": []
    },
    {
      "cell_type": "code",
      "source": [
        "system_control = ctrl.ControlSystem([rule1, rule2, rule3, rule4])\n",
        "simulation = ctrl.ControlSystemSimulation(system_control)\n",
        "\n",
        "simulation.input['temperatura'] = 30\n",
        "simulation.input['preco'] = 3.5\n",
        "\n",
        "simulation.compute()\n",
        "\n",
        "print(simulation.output['consumo'])"
      ],
      "metadata": {
        "colab": {
          "base_uri": "https://localhost:8080/"
        },
        "id": "8t_UX6ns-aSW",
        "outputId": "ec6a8860-2c24-4533-a3e3-a0f5f0fc5b85"
      },
      "execution_count": 6,
      "outputs": [
        {
          "output_type": "stream",
          "name": "stdout",
          "text": [
            "3528.4225743835696\n"
          ]
        }
      ]
    }
  ]
}